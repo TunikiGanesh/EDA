{
 "cells": [
  {
   "cell_type": "code",
   "execution_count": 2,
   "id": "bf74e0ca",
   "metadata": {},
   "outputs": [],
   "source": [
    "import pandas as pd\n",
    "import numpy as np\n",
    "import matplotlib.pyplot as plt\n",
    "import seaborn as sns"
   ]
  },
  {
   "cell_type": "code",
   "execution_count": 3,
   "id": "93193ace",
   "metadata": {},
   "outputs": [
    {
     "data": {
      "text/plain": [
       "'C:\\\\Users\\\\wow\\\\Desktop\\\\hello guru job kosam\\\\class'"
      ]
     },
     "execution_count": 3,
     "metadata": {},
     "output_type": "execute_result"
    }
   ],
   "source": [
    "import os \n",
    "os.getcwd()"
   ]
  },
  {
   "cell_type": "markdown",
   "id": "26b0b23c",
   "metadata": {},
   "source": [
    "# numerical analysis"
   ]
  },
  {
   "cell_type": "code",
   "execution_count": 4,
   "id": "5fa73706",
   "metadata": {},
   "outputs": [],
   "source": [
    "file_name=\"C:\\\\Users\\\\wow\\\\Desktop\\\\hello guru job kosam\\\\data sets\\\\visadataset.csv\"\n",
    "visa_dataset=pd.read_csv(file_name)"
   ]
  },
  {
   "cell_type": "code",
   "execution_count": 5,
   "id": "b1804d72",
   "metadata": {},
   "outputs": [
    {
     "data": {
      "text/plain": [
       "array([   592.2029,  83425.65  , 122996.86  , ..., 146298.85  ,\n",
       "        86154.77  ,  70876.91  ])"
      ]
     },
     "execution_count": 5,
     "metadata": {},
     "output_type": "execute_result"
    }
   ],
   "source": [
    "visa_dataset['prevailing_wage'].unique()"
   ]
  },
  {
   "cell_type": "code",
   "execution_count": 6,
   "id": "28ca10dd",
   "metadata": {},
   "outputs": [
    {
     "data": {
      "text/plain": [
       "25454"
      ]
     },
     "execution_count": 6,
     "metadata": {},
     "output_type": "execute_result"
    }
   ],
   "source": [
    "visa_dataset['prevailing_wage'].nunique()"
   ]
  },
  {
   "cell_type": "code",
   "execution_count": 9,
   "id": "7763b86b",
   "metadata": {},
   "outputs": [
    {
     "data": {
      "text/html": [
       "<div>\n",
       "<style scoped>\n",
       "    .dataframe tbody tr th:only-of-type {\n",
       "        vertical-align: middle;\n",
       "    }\n",
       "\n",
       "    .dataframe tbody tr th {\n",
       "        vertical-align: top;\n",
       "    }\n",
       "\n",
       "    .dataframe thead th {\n",
       "        text-align: right;\n",
       "    }\n",
       "</style>\n",
       "<table border=\"1\" class=\"dataframe\">\n",
       "  <thead>\n",
       "    <tr style=\"text-align: right;\">\n",
       "      <th></th>\n",
       "      <th>mean</th>\n",
       "      <th>median</th>\n",
       "      <th>max</th>\n",
       "      <th>min</th>\n",
       "      <th>std</th>\n",
       "      <th>count</th>\n",
       "    </tr>\n",
       "  </thead>\n",
       "  <tbody>\n",
       "    <tr>\n",
       "      <th>values</th>\n",
       "      <td>74455.81</td>\n",
       "      <td>70308.21</td>\n",
       "      <td>319210.27</td>\n",
       "      <td>2.14</td>\n",
       "      <td>52815.94</td>\n",
       "      <td>25480</td>\n",
       "    </tr>\n",
       "  </tbody>\n",
       "</table>\n",
       "</div>"
      ],
      "text/plain": [
       "            mean    median        max   min       std  count\n",
       "values  74455.81  70308.21  319210.27  2.14  52815.94  25480"
      ]
     },
     "execution_count": 9,
     "metadata": {},
     "output_type": "execute_result"
    }
   ],
   "source": [
    "p_mean=round(visa_dataset['prevailing_wage'].mean(),2)\n",
    "p_median=round(visa_dataset['prevailing_wage'].median(),2)\n",
    "p_max=round(visa_dataset['prevailing_wage'].max(),2)\n",
    "p_min=round(visa_dataset['prevailing_wage'].min(),2)\n",
    "p_std=round(visa_dataset['prevailing_wage'].std(),2)\n",
    "p_count=round(visa_dataset['prevailing_wage'].count(),2)\n",
    "\n",
    "dict1={'mean':p_mean,\n",
    "      'median':p_median,\n",
    "      'max':p_max,\n",
    "      'min':p_min,\n",
    "      'std':p_std,\n",
    "      'count':p_count}\n",
    "\n",
    "dict1\n",
    "pd.DataFrame(dict1,index=['values'])"
   ]
  },
  {
   "cell_type": "code",
   "execution_count": 11,
   "id": "f8fa521e",
   "metadata": {},
   "outputs": [
    {
     "data": {
      "text/plain": [
       "34015.48"
      ]
     },
     "execution_count": 11,
     "metadata": {},
     "output_type": "execute_result"
    }
   ],
   "source": [
    "data=visa_dataset['prevailing_wage']\n",
    "per_25=round(np.percentile(data,25),2)\n",
    "per_25"
   ]
  },
  {
   "cell_type": "code",
   "execution_count": 12,
   "id": "aa82e070",
   "metadata": {},
   "outputs": [
    {
     "data": {
      "text/plain": [
       "70308.21"
      ]
     },
     "execution_count": 12,
     "metadata": {},
     "output_type": "execute_result"
    }
   ],
   "source": [
    "data=visa_dataset['prevailing_wage']\n",
    "per_50=round(np.percentile(data,50),2)\n",
    "per_50"
   ]
  },
  {
   "cell_type": "code",
   "execution_count": 28,
   "id": "670b1766",
   "metadata": {},
   "outputs": [
    {
     "data": {
      "text/plain": [
       "103583.15"
      ]
     },
     "execution_count": 28,
     "metadata": {},
     "output_type": "execute_result"
    }
   ],
   "source": [
    "data=visa_dataset['prevailing_wage']\n",
    "per_72=round(np.percentile(data,72),2)\n",
    "per_72"
   ]
  },
  {
   "cell_type": "code",
   "execution_count": 33,
   "id": "168cb5a2",
   "metadata": {},
   "outputs": [
    {
     "data": {
      "text/plain": [
       "array([ 34015.48  ,  70308.21  , 107735.5125])"
      ]
     },
     "execution_count": 33,
     "metadata": {},
     "output_type": "execute_result"
    }
   ],
   "source": [
    "data=visa_dataset['prevailing_wage']\n",
    "per=np.percentile(data,[25,50,75])\n",
    "per"
   ]
  },
  {
   "cell_type": "code",
   "execution_count": 31,
   "id": "fdf40e67",
   "metadata": {},
   "outputs": [
    {
     "data": {
      "text/plain": [
       "34015.479999999996"
      ]
     },
     "execution_count": 31,
     "metadata": {},
     "output_type": "execute_result"
    }
   ],
   "source": [
    "np.quantile(data,0.25)"
   ]
  },
  {
   "cell_type": "markdown",
   "id": "825e8f6c",
   "metadata": {},
   "source": [
    "- percentile requires from 0-100\n",
    "- quantile requires from 0-1"
   ]
  },
  {
   "cell_type": "markdown",
   "id": "1070855c",
   "metadata": {},
   "source": [
    "# plots"
   ]
  },
  {
   "cell_type": "markdown",
   "id": "d09d61eb",
   "metadata": {},
   "source": [
    "- for numerical analyasis : histogram and frequency distribution plots\n",
    "- for bivariatwe analysis : scatter plots"
   ]
  },
  {
   "cell_type": "markdown",
   "id": "459617f7",
   "metadata": {},
   "source": [
    "# histogram"
   ]
  },
  {
   "cell_type": "code",
   "execution_count": 34,
   "id": "8810c66d",
   "metadata": {},
   "outputs": [
    {
     "data": {
      "text/plain": [
       "(array([6038., 5504., 5681., 4551., 2334.,  624.,  373.,  240.,  114.,\n",
       "          21.]),\n",
       " array([2.13670000e+00, 3.19229500e+04, 6.38437634e+04, 9.57645767e+04,\n",
       "        1.27685390e+05, 1.59606203e+05, 1.91527017e+05, 2.23447830e+05,\n",
       "        2.55368643e+05, 2.87289457e+05, 3.19210270e+05]),\n",
       " <BarContainer object of 10 artists>)"
      ]
     },
     "execution_count": 34,
     "metadata": {},
     "output_type": "execute_result"
    },
    {
     "data": {
      "image/png": "[encoded data removed]",
      "text/plain": [
       "<Figure size 640x480 with 1 Axes>"
      ]
     },
     "metadata": {},
     "output_type": "display_data"
    }
   ],
   "source": [
    "data=visa_dataset['prevailing_wage']\n",
    "plt.hist(data)"
   ]
  },
  {
   "cell_type": "code",
   "execution_count": 54,
   "id": "006975b3",
   "metadata": {},
   "outputs": [
    {
     "data": {
      "image/png": "[encoded data removed]",
      "text/plain": [
       "<Figure size 640x480 with 1 Axes>"
      ]
     },
     "metadata": {},
     "output_type": "display_data"
    }
   ],
   "source": [
    "data=visa_dataset['prevailing_wage']\n",
    "plt.hist(data)\n",
    "plt.show()"
   ]
  },
  {
   "cell_type": "code",
   "execution_count": 46,
   "id": "f2ff73ca",
   "metadata": {
    "scrolled": false
   },
   "outputs": [
    {
     "data": {
      "image/png": "[encoded data removed]",
      "text/plain": [
       "<Figure size 640x480 with 1 Axes>"
      ]
     },
     "metadata": {},
     "output_type": "display_data"
    }
   ],
   "source": [
    "data=visa_dataset['prevailing_wage']\n",
    "frequency,interval,n=plt.hist(data,bins=50)\n"
   ]
  },
  {
   "cell_type": "code",
   "execution_count": 47,
   "id": "a1b6f5df",
   "metadata": {},
   "outputs": [
    {
     "data": {
      "text/plain": [
       "array([2813.,  708.,  725.,  832.,  960.,  993., 1109., 1132., 1108.,\n",
       "       1162., 1184., 1154., 1159., 1117., 1067., 1047.,  953.,  955.,\n",
       "        816.,  780.,  673.,  539.,  469.,  364.,  289.,  211.,  139.,\n",
       "        107.,   81.,   86.,   79.,   87.,   78.,   69.,   60.,   49.,\n",
       "         57.,   52.,   45.,   37.,   28.,   27.,   26.,   20.,   13.,\n",
       "          4.,    5.,    4.,    4.,    4.])"
      ]
     },
     "execution_count": 47,
     "metadata": {},
     "output_type": "execute_result"
    }
   ],
   "source": [
    "frequency"
   ]
  },
  {
   "cell_type": "code",
   "execution_count": 50,
   "id": "46a1376d",
   "metadata": {},
   "outputs": [
    {
     "data": {
      "text/plain": [
       "array([2.13670000e+00, 6.38629937e+03, 1.27704620e+04, 1.91546247e+04,\n",
       "       2.55387874e+04, 3.19229500e+04, 3.83071127e+04, 4.46912754e+04,\n",
       "       5.10754380e+04, 5.74596007e+04, 6.38437634e+04, 7.02279260e+04,\n",
       "       7.66120887e+04, 8.29962514e+04, 8.93804140e+04, 9.57645767e+04,\n",
       "       1.02148739e+05, 1.08532902e+05, 1.14917065e+05, 1.21301227e+05,\n",
       "       1.27685390e+05, 1.34069553e+05, 1.40453715e+05, 1.46837878e+05,\n",
       "       1.53222041e+05, 1.59606203e+05, 1.65990366e+05, 1.72374529e+05,\n",
       "       1.78758691e+05, 1.85142854e+05, 1.91527017e+05, 1.97911179e+05,\n",
       "       2.04295342e+05, 2.10679505e+05, 2.17063667e+05, 2.23447830e+05,\n",
       "       2.29831993e+05, 2.36216155e+05, 2.42600318e+05, 2.48984481e+05,\n",
       "       2.55368643e+05, 2.61752806e+05, 2.68136969e+05, 2.74521131e+05,\n",
       "       2.80905294e+05, 2.87289457e+05, 2.93673619e+05, 3.00057782e+05,\n",
       "       3.06441945e+05, 3.12826107e+05, 3.19210270e+05])"
      ]
     },
     "execution_count": 50,
     "metadata": {},
     "output_type": "execute_result"
    }
   ],
   "source": [
    "interval"
   ]
  },
  {
   "cell_type": "code",
   "execution_count": 53,
   "id": "31b91f00",
   "metadata": {},
   "outputs": [
    {
     "data": {
      "text/plain": [
       "<BarContainer object of 50 artists>"
      ]
     },
     "execution_count": 53,
     "metadata": {},
     "output_type": "execute_result"
    }
   ],
   "source": [
    "n"
   ]
  },
  {
   "cell_type": "code",
   "execution_count": 60,
   "id": "40e8d9bd",
   "metadata": {},
   "outputs": [
    {
     "data": {
      "text/plain": [
       "(array([6038., 5504., 5681., 4551., 2334.,  624.,  373.,  240.,  114.,\n",
       "          21.]),\n",
       " array([2.13670000e+00, 3.19229500e+04, 6.38437634e+04, 9.57645767e+04,\n",
       "        1.27685390e+05, 1.59606203e+05, 1.91527017e+05, 2.23447830e+05,\n",
       "        2.55368643e+05, 2.87289457e+05, 3.19210270e+05]),\n",
       " <BarContainer object of 10 artists>)"
      ]
     },
     "execution_count": 60,
     "metadata": {},
     "output_type": "execute_result"
    },
    {
     "data": {
      "image/png": "[encoded data removed]",
      "text/plain": [
       "<Figure size 640x480 with 1 Axes>"
      ]
     },
     "metadata": {},
     "output_type": "display_data"
    }
   ],
   "source": [
    "plt.hist(data,\n",
    "        color='r')"
   ]
  },
  {
   "cell_type": "code",
   "execution_count": 69,
   "id": "3efffb89",
   "metadata": {},
   "outputs": [
    {
     "data": {
      "image/png": "[encoded data removed]",
      "text/plain": [
       "<Figure size 640x480 with 1 Axes>"
      ]
     },
     "metadata": {},
     "output_type": "display_data"
    }
   ],
   "source": [
    "sns.histplot(data,color='#EE82EE')\n",
    "plt.show()"
   ]
  },
  {
   "cell_type": "code",
   "execution_count": 70,
   "id": "647e9021",
   "metadata": {},
   "outputs": [
    {
     "data": {
      "text/plain": [
       "{'whiskers': [<matplotlib.lines.Line2D at 0x220b2b57e50>,\n",
       "  <matplotlib.lines.Line2D at 0x220b2c87110>],\n",
       " 'caps': [<matplotlib.lines.Line2D at 0x220b2c87a10>,\n",
       "  <matplotlib.lines.Line2D at 0x220b2c94290>],\n",
       " 'boxes': [<matplotlib.lines.Line2D at 0x220b2c85d90>],\n",
       " 'medians': [<matplotlib.lines.Line2D at 0x220b2c94b50>],\n",
       " 'fliers': [<matplotlib.lines.Line2D at 0x220b2c95390>],\n",
       " 'means': []}"
      ]
     },
     "execution_count": 70,
     "metadata": {},
     "output_type": "execute_result"
    },
    {
     "data": {
      "image/png": "[encoded data removed]",
      "text/plain": [
       "<Figure size 640x480 with 1 Axes>"
      ]
     },
     "metadata": {},
     "output_type": "display_data"
    }
   ],
   "source": [
    "plt.boxplot(data)"
   ]
  },
  {
   "cell_type": "code",
   "execution_count": 71,
   "id": "da38c54d",
   "metadata": {},
   "outputs": [
    {
     "data": {
      "image/png": "[encoded data removed]",
      "text/plain": [
       "<Figure size 640x480 with 1 Axes>"
      ]
     },
     "metadata": {},
     "output_type": "display_data"
    }
   ],
   "source": [
    "plt.boxplot(data)\n",
    "plt.show()"
   ]
  },
  {
   "cell_type": "code",
   "execution_count": 74,
   "id": "96d90b3a",
   "metadata": {
    "scrolled": false
   },
   "outputs": [
    {
     "data": {
      "image/png": "[encoded data removed]",
      "text/plain": [
       "<Figure size 640x480 with 1 Axes>"
      ]
     },
     "metadata": {},
     "output_type": "display_data"
    }
   ],
   "source": [
    "plt.boxplot(data,showbox=True)\n",
    "plt.show()"
   ]
  },
  {
   "cell_type": "code",
   "execution_count": 89,
   "id": "fea0498b",
   "metadata": {},
   "outputs": [
    {
     "name": "stdout",
     "output_type": "stream",
     "text": [
      "34015.48 70308.21 107735.51 73720.03 -76564.565 218315.555\n"
     ]
    }
   ],
   "source": [
    "Q1=round(np.quantile(data,0.25),2)\n",
    "Q2=round(np.quantile(data,0.50),2)\n",
    "Q3=round(np.quantile(data,0.75),2)\n",
    "IQR=Q3-Q1\n",
    "LB=Q1-1.5*(IQR)\n",
    "UB=Q3+1.5*(IQR)\n",
    "print(Q1,Q2,Q3,IQR,LB,UB)"
   ]
  },
  {
   "cell_type": "code",
   "execution_count": 90,
   "id": "4fcc390d",
   "metadata": {},
   "outputs": [
    {
     "data": {
      "text/plain": [
       "0        False\n",
       "1        False\n",
       "2        False\n",
       "3        False\n",
       "4        False\n",
       "         ...  \n",
       "25475    False\n",
       "25476     True\n",
       "25477    False\n",
       "25478    False\n",
       "25479    False\n",
       "Name: prevailing_wage, Length: 25480, dtype: bool"
      ]
     },
     "execution_count": 90,
     "metadata": {},
     "output_type": "execute_result"
    }
   ],
   "source": [
    "data=visa_dataset['prevailing_wage']\n",
    "con1=data<LB\n",
    "con2=data>UB\n",
    "\n",
    "con1|con2 # it return bool values\n",
    "#in oreder to get the dAta those who has the condition as true\n",
    "#place the data in original data set\n"
   ]
  },
  {
   "cell_type": "code",
   "execution_count": 91,
   "id": "0292efe1",
   "metadata": {},
   "outputs": [],
   "source": [
    "outlier_data=visa_dataset[con1|con2]\n",
    "#here we are extrecting some part of data from main dat set by applying a contion \n",
    "# it will return all the data present in that condition"
   ]
  },
  {
   "cell_type": "code",
   "execution_count": 92,
   "id": "5a0dceab",
   "metadata": {
    "scrolled": true
   },
   "outputs": [
    {
     "data": {
      "text/plain": [
       "427"
      ]
     },
     "execution_count": 92,
     "metadata": {},
     "output_type": "execute_result"
    }
   ],
   "source": [
    "len(outlier_data)"
   ]
  },
  {
   "cell_type": "code",
   "execution_count": 96,
   "id": "6716cd4a",
   "metadata": {},
   "outputs": [],
   "source": [
    "outlier_pre=outlier_data['prevailing_wage']"
   ]
  },
  {
   "cell_type": "code",
   "execution_count": 99,
   "id": "a9516a44",
   "metadata": {
    "scrolled": false
   },
   "outputs": [
    {
     "data": {
      "text/plain": [
       "[220081.73,\n",
       " 225569.73,\n",
       " 247393.01,\n",
       " 269321.68,\n",
       " 219529.62,\n",
       " 232227.33,\n",
       " 238691.32,\n",
       " 220448.17,\n",
       " 230750.48,\n",
       " 235339.91,\n",
       " 232680.65,\n",
       " 256261.78,\n",
       " 262189.0,\n",
       " 250510.67,\n",
       " 218554.78,\n",
       " 256205.38,\n",
       " 221944.22,\n",
       " 229950.7,\n",
       " 222628.84,\n",
       " 229819.69,\n",
       " 233641.72,\n",
       " 274019.43,\n",
       " 218982.83,\n",
       " 230984.28,\n",
       " 223128.23,\n",
       " 246705.0,\n",
       " 240266.34,\n",
       " 226090.72,\n",
       " 231949.27,\n",
       " 254604.08,\n",
       " 288318.91,\n",
       " 244457.48,\n",
       " 242146.48,\n",
       " 247545.23,\n",
       " 234139.17,\n",
       " 231834.72,\n",
       " 222730.57,\n",
       " 239773.63,\n",
       " 220553.95,\n",
       " 237539.32,\n",
       " 266440.49,\n",
       " 277281.01,\n",
       " 275627.59,\n",
       " 249291.12,\n",
       " 292106.59,\n",
       " 234012.11,\n",
       " 247009.24,\n",
       " 267726.09,\n",
       " 222098.09,\n",
       " 280661.13,\n",
       " 277984.52,\n",
       " 262852.71,\n",
       " 263877.21,\n",
       " 230916.64,\n",
       " 264760.64,\n",
       " 267868.56,\n",
       " 222221.67,\n",
       " 242406.32,\n",
       " 276894.08,\n",
       " 281832.93,\n",
       " 221033.57,\n",
       " 258292.84,\n",
       " 223492.85,\n",
       " 245418.67,\n",
       " 250289.08,\n",
       " 271344.69,\n",
       " 252825.11,\n",
       " 230843.7,\n",
       " 253668.86,\n",
       " 245819.17,\n",
       " 239465.3,\n",
       " 236316.36,\n",
       " 225268.13,\n",
       " 228941.33,\n",
       " 306021.96,\n",
       " 228074.25,\n",
       " 270799.93,\n",
       " 221982.69,\n",
       " 256903.7,\n",
       " 242813.07,\n",
       " 253111.05,\n",
       " 268440.33,\n",
       " 225681.78,\n",
       " 233150.41,\n",
       " 307410.02,\n",
       " 227609.87,\n",
       " 248247.63,\n",
       " 244813.07,\n",
       " 233642.47,\n",
       " 246955.19,\n",
       " 304543.67,\n",
       " 236918.29,\n",
       " 229494.55,\n",
       " 228805.91,\n",
       " 250899.07,\n",
       " 259739.35,\n",
       " 240798.56,\n",
       " 238109.72,\n",
       " 281418.03,\n",
       " 239151.61,\n",
       " 280205.27,\n",
       " 272756.53,\n",
       " 298520.02,\n",
       " 242018.37,\n",
       " 250436.94,\n",
       " 254275.73,\n",
       " 254230.21,\n",
       " 237715.74,\n",
       " 235224.73,\n",
       " 232265.54,\n",
       " 259277.18,\n",
       " 271409.44,\n",
       " 232792.93,\n",
       " 259097.55,\n",
       " 249339.52,\n",
       " 238893.91,\n",
       " 234406.36,\n",
       " 253915.96,\n",
       " 238078.87,\n",
       " 231936.29,\n",
       " 222457.51,\n",
       " 255626.72,\n",
       " 247602.36,\n",
       " 227360.23,\n",
       " 284328.96,\n",
       " 219351.89,\n",
       " 248137.05,\n",
       " 273774.05,\n",
       " 246806.65,\n",
       " 225816.56,\n",
       " 277357.78,\n",
       " 238353.7,\n",
       " 254858.86,\n",
       " 234856.36,\n",
       " 226588.62,\n",
       " 247935.5,\n",
       " 226927.95,\n",
       " 225181.88,\n",
       " 240846.68,\n",
       " 240467.47,\n",
       " 248608.01,\n",
       " 261729.62,\n",
       " 227035.49,\n",
       " 278629.2,\n",
       " 236523.12,\n",
       " 222416.49,\n",
       " 240193.11,\n",
       " 243086.94,\n",
       " 294258.8,\n",
       " 224366.03,\n",
       " 254361.39,\n",
       " 247003.95,\n",
       " 244758.73,\n",
       " 284585.2,\n",
       " 260321.86,\n",
       " 239400.63,\n",
       " 229535.14,\n",
       " 246525.47,\n",
       " 269645.3,\n",
       " 228937.44,\n",
       " 228767.83,\n",
       " 245999.3,\n",
       " 233767.78,\n",
       " 244938.45,\n",
       " 267448.28,\n",
       " 245110.1,\n",
       " 264564.71,\n",
       " 219128.94,\n",
       " 221860.43,\n",
       " 262556.25,\n",
       " 252003.71,\n",
       " 262314.42,\n",
       " 251730.64,\n",
       " 247876.09,\n",
       " 223185.07,\n",
       " 258044.72,\n",
       " 278708.4,\n",
       " 264362.95,\n",
       " 258477.93,\n",
       " 272311.21,\n",
       " 289878.68,\n",
       " 227441.23,\n",
       " 245197.29,\n",
       " 248076.5,\n",
       " 266110.44,\n",
       " 247525.17,\n",
       " 219090.04,\n",
       " 222793.7,\n",
       " 230919.67,\n",
       " 228715.49,\n",
       " 250163.1,\n",
       " 268713.5,\n",
       " 268737.76,\n",
       " 278409.92,\n",
       " 223098.15,\n",
       " 261496.17,\n",
       " 239894.57,\n",
       " 306206.67,\n",
       " 222276.55,\n",
       " 273009.56,\n",
       " 238662.95,\n",
       " 253698.68,\n",
       " 263466.82,\n",
       " 218318.76,\n",
       " 280175.95,\n",
       " 248668.8,\n",
       " 234902.2,\n",
       " 249626.02,\n",
       " 231138.15,\n",
       " 264798.08,\n",
       " 234755.9,\n",
       " 230566.11,\n",
       " 235429.79,\n",
       " 277104.8,\n",
       " 240410.79,\n",
       " 315497.6,\n",
       " 238065.59,\n",
       " 229565.95,\n",
       " 233013.3,\n",
       " 229794.44,\n",
       " 220817.57,\n",
       " 228734.21,\n",
       " 256618.11,\n",
       " 226892.03,\n",
       " 243111.61,\n",
       " 251014.23,\n",
       " 230922.38,\n",
       " 248492.44,\n",
       " 232673.86,\n",
       " 257966.97,\n",
       " 233282.32,\n",
       " 225877.49,\n",
       " 259461.84,\n",
       " 255674.94,\n",
       " 259083.16,\n",
       " 250841.05,\n",
       " 261556.56,\n",
       " 219465.03,\n",
       " 273951.68,\n",
       " 294807.32,\n",
       " 220736.86,\n",
       " 265168.9,\n",
       " 263908.89,\n",
       " 278554.98,\n",
       " 239880.69,\n",
       " 254861.76,\n",
       " 281582.84,\n",
       " 224049.27,\n",
       " 238039.66,\n",
       " 238165.9,\n",
       " 268110.52,\n",
       " 228645.15,\n",
       " 257781.92,\n",
       " 219284.2,\n",
       " 318446.05,\n",
       " 307716.1,\n",
       " 273426.75,\n",
       " 249850.51,\n",
       " 286336.94,\n",
       " 248533.33,\n",
       " 259835.69,\n",
       " 261554.61,\n",
       " 242597.19,\n",
       " 226669.55,\n",
       " 306982.28,\n",
       " 269990.25,\n",
       " 244202.66,\n",
       " 233790.85,\n",
       " 281590.41,\n",
       " 224874.12,\n",
       " 230017.17,\n",
       " 221735.9,\n",
       " 271877.51,\n",
       " 257916.69,\n",
       " 314156.06,\n",
       " 229874.06,\n",
       " 235694.88,\n",
       " 280155.01,\n",
       " 272286.3,\n",
       " 266071.13,\n",
       " 237874.32,\n",
       " 251654.81,\n",
       " 280521.57,\n",
       " 263400.0,\n",
       " 224151.28,\n",
       " 275926.27,\n",
       " 273025.14,\n",
       " 227562.89,\n",
       " 229208.81,\n",
       " 284220.42,\n",
       " 246099.93,\n",
       " 219321.41,\n",
       " 221669.11,\n",
       " 230395.29,\n",
       " 221900.52,\n",
       " 245785.16,\n",
       " 294945.51,\n",
       " 236692.29,\n",
       " 236184.68,\n",
       " 249610.99,\n",
       " 257775.44,\n",
       " 239224.53,\n",
       " 221524.92,\n",
       " 254015.02,\n",
       " 281344.22,\n",
       " 297589.88,\n",
       " 221595.07,\n",
       " 226169.32,\n",
       " 287433.9,\n",
       " 220280.21,\n",
       " 252808.74,\n",
       " 262777.69,\n",
       " 268204.62,\n",
       " 257994.73,\n",
       " 302513.77,\n",
       " 222511.73,\n",
       " 256502.28,\n",
       " 245599.1,\n",
       " 224523.8,\n",
       " 239441.23,\n",
       " 259556.53,\n",
       " 245890.1,\n",
       " 233990.98,\n",
       " 240153.33,\n",
       " 221588.52,\n",
       " 223357.39,\n",
       " 266821.59,\n",
       " 247248.66,\n",
       " 230431.69,\n",
       " 240099.97,\n",
       " 255771.26,\n",
       " 247560.19,\n",
       " 267189.12,\n",
       " 234330.77,\n",
       " 287191.2,\n",
       " 219056.42,\n",
       " 232389.85,\n",
       " 221498.71,\n",
       " 266813.88,\n",
       " 232473.44,\n",
       " 222868.81,\n",
       " 241680.07,\n",
       " 284205.22,\n",
       " 241811.15,\n",
       " 240301.92,\n",
       " 254522.41,\n",
       " 221354.25,\n",
       " 247084.9,\n",
       " 238778.59,\n",
       " 223837.82,\n",
       " 219968.65,\n",
       " 232462.72,\n",
       " 311734.49,\n",
       " 319210.27,\n",
       " 225324.61,\n",
       " 242673.44,\n",
       " 242507.42,\n",
       " 244049.04,\n",
       " 274436.62,\n",
       " 240609.17,\n",
       " 231149.93,\n",
       " 218826.0,\n",
       " 255033.75,\n",
       " 228520.51,\n",
       " 285088.16,\n",
       " 221058.13,\n",
       " 235454.33,\n",
       " 285256.54,\n",
       " 222177.4,\n",
       " 232933.22,\n",
       " 239617.43,\n",
       " 233585.11,\n",
       " 249452.91,\n",
       " 227133.68,\n",
       " 239600.76,\n",
       " 242466.81,\n",
       " 225057.61,\n",
       " 278250.32,\n",
       " 241928.36,\n",
       " 250319.73,\n",
       " 225036.07,\n",
       " 249907.87,\n",
       " 252692.71,\n",
       " 264947.49,\n",
       " 223062.79,\n",
       " 229456.89,\n",
       " 249394.83,\n",
       " 238788.29,\n",
       " 225440.67,\n",
       " 221757.19,\n",
       " 218823.72,\n",
       " 240922.83,\n",
       " 232029.62,\n",
       " 254157.54,\n",
       " 270184.42,\n",
       " 238178.7,\n",
       " 227683.38,\n",
       " 270599.15,\n",
       " 232111.27,\n",
       " 264303.76,\n",
       " 243190.47,\n",
       " 226982.69,\n",
       " 230428.5,\n",
       " 275211.23,\n",
       " 232068.71,\n",
       " 231426.9,\n",
       " 223673.34,\n",
       " 252661.63,\n",
       " 242247.08,\n",
       " 235875.97,\n",
       " 229568.14,\n",
       " 247355.35,\n",
       " 265969.8,\n",
       " 231545.19,\n",
       " 232467.06,\n",
       " 247626.74,\n",
       " 242347.14,\n",
       " 220664.53,\n",
       " 248375.16,\n",
       " 218488.72,\n",
       " 236625.64,\n",
       " 268376.5,\n",
       " 280482.51,\n",
       " 234308.77,\n",
       " 272715.74,\n",
       " 273772.47,\n",
       " 279174.79]"
      ]
     },
     "execution_count": 99,
     "metadata": {},
     "output_type": "execute_result"
    }
   ],
   "source": [
    "outlier_data['prevailing_wage'].to_list()"
   ]
  },
  {
   "cell_type": "code",
   "execution_count": null,
   "id": "b99182db",
   "metadata": {},
   "outputs": [],
   "source": []
  }
 ],
 "metadata": {
  "kernelspec": {
   "display_name": "Python 3 (ipykernel)",
   "language": "python",
   "name": "python3"
  },
  "language_info": {
   "codemirror_mode": {
    "name": "ipython",
    "version": 3
   },
   "file_extension": ".py",
   "mimetype": "text/x-python",
   "name": "python",
   "nbconvert_exporter": "python",
   "pygments_lexer": "ipython3",
   "version": "3.11.4"
  }
 },
 "nbformat": 4,
 "nbformat_minor": 5
}
